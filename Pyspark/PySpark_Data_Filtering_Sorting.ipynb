{
  "nbformat": 4,
  "nbformat_minor": 0,
  "metadata": {
    "colab": {
      "provenance": []
    },
    "kernelspec": {
      "name": "python3",
      "display_name": "Python 3"
    },
    "language_info": {
      "name": "python"
    }
  },
  "cells": [
    {
      "cell_type": "code",
      "execution_count": 1,
      "metadata": {
        "colab": {
          "base_uri": "https://localhost:8080/"
        },
        "id": "WTafYtVnUg2a",
        "outputId": "20e861a2-da30-465d-e7a1-bdfd45398dd0"
      },
      "outputs": [
        {
          "output_type": "stream",
          "name": "stdout",
          "text": [
            "Collecting pyspark\n",
            "  Downloading pyspark-3.5.0.tar.gz (316.9 MB)\n",
            "\u001b[2K     \u001b[90m━━━━━━━━━━━━━━━━━━━━━━━━━━━━━━━━━━━━━━━━\u001b[0m \u001b[32m316.9/316.9 MB\u001b[0m \u001b[31m2.3 MB/s\u001b[0m eta \u001b[36m0:00:00\u001b[0m\n",
            "\u001b[?25h  Preparing metadata (setup.py) ... \u001b[?25l\u001b[?25hdone\n",
            "Requirement already satisfied: py4j==0.10.9.7 in /usr/local/lib/python3.10/dist-packages (from pyspark) (0.10.9.7)\n",
            "Building wheels for collected packages: pyspark\n",
            "  Building wheel for pyspark (setup.py) ... \u001b[?25l\u001b[?25hdone\n",
            "  Created wheel for pyspark: filename=pyspark-3.5.0-py2.py3-none-any.whl size=317425344 sha256=e36c1930699f320b47f01a84006f48e759cb3ea8393544dd7e03188965c18911\n",
            "  Stored in directory: /root/.cache/pip/wheels/41/4e/10/c2cf2467f71c678cfc8a6b9ac9241e5e44a01940da8fbb17fc\n",
            "Successfully built pyspark\n",
            "Installing collected packages: pyspark\n",
            "Successfully installed pyspark-3.5.0\n",
            "The following additional packages will be installed:\n",
            "  libxtst6 openjdk-8-jre-headless\n",
            "Suggested packages:\n",
            "  openjdk-8-demo openjdk-8-source libnss-mdns fonts-dejavu-extra fonts-nanum fonts-ipafont-gothic\n",
            "  fonts-ipafont-mincho fonts-wqy-microhei fonts-wqy-zenhei fonts-indic\n",
            "The following NEW packages will be installed:\n",
            "  libxtst6 openjdk-8-jdk-headless openjdk-8-jre-headless\n",
            "0 upgraded, 3 newly installed, 0 to remove and 18 not upgraded.\n",
            "Need to get 39.7 MB of archives.\n",
            "After this operation, 144 MB of additional disk space will be used.\n",
            "Selecting previously unselected package libxtst6:amd64.\n",
            "(Reading database ... 120876 files and directories currently installed.)\n",
            "Preparing to unpack .../libxtst6_2%3a1.2.3-1build4_amd64.deb ...\n",
            "Unpacking libxtst6:amd64 (2:1.2.3-1build4) ...\n",
            "Selecting previously unselected package openjdk-8-jre-headless:amd64.\n",
            "Preparing to unpack .../openjdk-8-jre-headless_8u382-ga-1~22.04.1_amd64.deb ...\n",
            "Unpacking openjdk-8-jre-headless:amd64 (8u382-ga-1~22.04.1) ...\n",
            "Selecting previously unselected package openjdk-8-jdk-headless:amd64.\n",
            "Preparing to unpack .../openjdk-8-jdk-headless_8u382-ga-1~22.04.1_amd64.deb ...\n",
            "Unpacking openjdk-8-jdk-headless:amd64 (8u382-ga-1~22.04.1) ...\n",
            "Setting up libxtst6:amd64 (2:1.2.3-1build4) ...\n",
            "Setting up openjdk-8-jre-headless:amd64 (8u382-ga-1~22.04.1) ...\n",
            "update-alternatives: using /usr/lib/jvm/java-8-openjdk-amd64/jre/bin/orbd to provide /usr/bin/orbd (orbd) in auto mode\n",
            "update-alternatives: using /usr/lib/jvm/java-8-openjdk-amd64/jre/bin/servertool to provide /usr/bin/servertool (servertool) in auto mode\n",
            "update-alternatives: using /usr/lib/jvm/java-8-openjdk-amd64/jre/bin/tnameserv to provide /usr/bin/tnameserv (tnameserv) in auto mode\n",
            "Setting up openjdk-8-jdk-headless:amd64 (8u382-ga-1~22.04.1) ...\n",
            "update-alternatives: using /usr/lib/jvm/java-8-openjdk-amd64/bin/clhsdb to provide /usr/bin/clhsdb (clhsdb) in auto mode\n",
            "update-alternatives: using /usr/lib/jvm/java-8-openjdk-amd64/bin/extcheck to provide /usr/bin/extcheck (extcheck) in auto mode\n",
            "update-alternatives: using /usr/lib/jvm/java-8-openjdk-amd64/bin/hsdb to provide /usr/bin/hsdb (hsdb) in auto mode\n",
            "update-alternatives: using /usr/lib/jvm/java-8-openjdk-amd64/bin/idlj to provide /usr/bin/idlj (idlj) in auto mode\n",
            "update-alternatives: using /usr/lib/jvm/java-8-openjdk-amd64/bin/javah to provide /usr/bin/javah (javah) in auto mode\n",
            "update-alternatives: using /usr/lib/jvm/java-8-openjdk-amd64/bin/jhat to provide /usr/bin/jhat (jhat) in auto mode\n",
            "update-alternatives: using /usr/lib/jvm/java-8-openjdk-amd64/bin/jsadebugd to provide /usr/bin/jsadebugd (jsadebugd) in auto mode\n",
            "update-alternatives: using /usr/lib/jvm/java-8-openjdk-amd64/bin/native2ascii to provide /usr/bin/native2ascii (native2ascii) in auto mode\n",
            "update-alternatives: using /usr/lib/jvm/java-8-openjdk-amd64/bin/schemagen to provide /usr/bin/schemagen (schemagen) in auto mode\n",
            "update-alternatives: using /usr/lib/jvm/java-8-openjdk-amd64/bin/wsgen to provide /usr/bin/wsgen (wsgen) in auto mode\n",
            "update-alternatives: using /usr/lib/jvm/java-8-openjdk-amd64/bin/wsimport to provide /usr/bin/wsimport (wsimport) in auto mode\n",
            "update-alternatives: using /usr/lib/jvm/java-8-openjdk-amd64/bin/xjc to provide /usr/bin/xjc (xjc) in auto mode\n",
            "Processing triggers for libc-bin (2.35-0ubuntu3.1) ...\n",
            "/sbin/ldconfig.real: /usr/local/lib/libtbbbind.so.3 is not a symbolic link\n",
            "\n",
            "/sbin/ldconfig.real: /usr/local/lib/libtbb.so.12 is not a symbolic link\n",
            "\n",
            "/sbin/ldconfig.real: /usr/local/lib/libtbbbind_2_0.so.3 is not a symbolic link\n",
            "\n",
            "/sbin/ldconfig.real: /usr/local/lib/libtbbmalloc_proxy.so.2 is not a symbolic link\n",
            "\n",
            "/sbin/ldconfig.real: /usr/local/lib/libtbbmalloc.so.2 is not a symbolic link\n",
            "\n",
            "/sbin/ldconfig.real: /usr/local/lib/libtbbbind_2_5.so.3 is not a symbolic link\n",
            "\n"
          ]
        }
      ],
      "source": [
        "!pip install pyspark\n",
        "!pip install -U -q PyDrive\n",
        "!apt install openjdk-8-jdk-headless -qq\n",
        "import os\n",
        "os.environ[\"JAVA_HOME\"] = \"/usr/lib/jvm/java-8-openjdk-amd64\""
      ]
    },
    {
      "cell_type": "code",
      "source": [
        "!wget https://raw.githubusercontent.com/nytimes/covid-19-data/master/us-counties-2020.csv\n",
        "!wget https://raw.githubusercontent.com/nytimes/covid-19-data/master/us-counties-2021.csv\n",
        "!wget https://raw.githubusercontent.com/nytimes/covid-19-data/master/us-counties-2022.csv\n",
        "!wget https://raw.githubusercontent.com/nytimes/covid-19-data/master/us-counties-2023.csv"
      ],
      "metadata": {
        "colab": {
          "base_uri": "https://localhost:8080/"
        },
        "id": "G2uEAdgLUmRZ",
        "outputId": "a1367866-71e3-4781-d8b9-a3467a10959d"
      },
      "execution_count": 2,
      "outputs": [
        {
          "output_type": "stream",
          "name": "stdout",
          "text": [
            "--2023-10-19 03:43:50--  https://raw.githubusercontent.com/nytimes/covid-19-data/master/us-counties-2020.csv\n",
            "Resolving raw.githubusercontent.com (raw.githubusercontent.com)... 185.199.108.133, 185.199.109.133, 185.199.110.133, ...\n",
            "Connecting to raw.githubusercontent.com (raw.githubusercontent.com)|185.199.108.133|:443... connected.\n",
            "HTTP request sent, awaiting response... 200 OK\n",
            "Length: 35871900 (34M) [text/plain]\n",
            "Saving to: ‘us-counties-2020.csv’\n",
            "\n",
            "us-counties-2020.cs 100%[===================>]  34.21M   171MB/s    in 0.2s    \n",
            "\n",
            "2023-10-19 03:43:51 (171 MB/s) - ‘us-counties-2020.csv’ saved [35871900/35871900]\n",
            "\n",
            "--2023-10-19 03:43:51--  https://raw.githubusercontent.com/nytimes/covid-19-data/master/us-counties-2021.csv\n",
            "Resolving raw.githubusercontent.com (raw.githubusercontent.com)... 185.199.108.133, 185.199.111.133, 185.199.109.133, ...\n",
            "Connecting to raw.githubusercontent.com (raw.githubusercontent.com)|185.199.108.133|:443... connected.\n",
            "HTTP request sent, awaiting response... 200 OK\n",
            "Length: 50311433 (48M) [text/plain]\n",
            "Saving to: ‘us-counties-2021.csv’\n",
            "\n",
            "us-counties-2021.cs 100%[===================>]  47.98M   160MB/s    in 0.3s    \n",
            "\n",
            "2023-10-19 03:43:51 (160 MB/s) - ‘us-counties-2021.csv’ saved [50311433/50311433]\n",
            "\n",
            "--2023-10-19 03:43:52--  https://raw.githubusercontent.com/nytimes/covid-19-data/master/us-counties-2022.csv\n",
            "Resolving raw.githubusercontent.com (raw.githubusercontent.com)... 185.199.108.133, 185.199.109.133, 185.199.110.133, ...\n",
            "Connecting to raw.githubusercontent.com (raw.githubusercontent.com)|185.199.108.133|:443... connected.\n",
            "HTTP request sent, awaiting response... 200 OK\n",
            "Length: 51200840 (49M) [text/plain]\n",
            "Saving to: ‘us-counties-2022.csv’\n",
            "\n",
            "us-counties-2022.cs 100%[===================>]  48.83M  95.3MB/s    in 0.5s    \n",
            "\n",
            "2023-10-19 03:43:53 (95.3 MB/s) - ‘us-counties-2022.csv’ saved [51200840/51200840]\n",
            "\n",
            "--2023-10-19 03:43:53--  https://raw.githubusercontent.com/nytimes/covid-19-data/master/us-counties-2023.csv\n",
            "Resolving raw.githubusercontent.com (raw.githubusercontent.com)... 185.199.110.133, 185.199.108.133, 185.199.111.133, ...\n",
            "Connecting to raw.githubusercontent.com (raw.githubusercontent.com)|185.199.110.133|:443... connected.\n",
            "HTTP request sent, awaiting response... 200 OK\n",
            "Length: 11541836 (11M) [text/plain]\n",
            "Saving to: ‘us-counties-2023.csv’\n",
            "\n",
            "us-counties-2023.cs 100%[===================>]  11.01M  64.2MB/s    in 0.2s    \n",
            "\n",
            "2023-10-19 03:43:53 (64.2 MB/s) - ‘us-counties-2023.csv’ saved [11541836/11541836]\n",
            "\n"
          ]
        }
      ]
    },
    {
      "cell_type": "code",
      "source": [
        "from pyspark.sql import SparkSession\n",
        "spark = SparkSession.builder.master(\"local[*]\").getOrCreate()"
      ],
      "metadata": {
        "id": "DCPoj0bgUpo8"
      },
      "execution_count": 3,
      "outputs": []
    },
    {
      "cell_type": "code",
      "source": [
        "covid2020 = spark.read.options(header=True).csv(\"/content/us-counties-2020.csv\")\n",
        "covid2021 = spark.read.options(header=True).csv(\"/content/us-counties-2021.csv\")\n",
        "covid2022 = spark.read.options(header=True).csv(\"/content/us-counties-2022.csv\")\n",
        "covid2023 = spark.read.options(header=True).csv(\"/content/us-counties-2023.csv\")"
      ],
      "metadata": {
        "id": "Uuny_5kXUrlr"
      },
      "execution_count": null,
      "outputs": []
    },
    {
      "cell_type": "code",
      "source": [
        "covid2020.show()"
      ],
      "metadata": {
        "id": "R8sfS3eaVDLF"
      },
      "execution_count": null,
      "outputs": []
    },
    {
      "cell_type": "code",
      "source": [
        "from pyspark.sql.functions import concat, max, min, avg, date_format, sum, col"
      ],
      "metadata": {
        "id": "92oSSa0qVXBa"
      },
      "execution_count": null,
      "outputs": []
    },
    {
      "cell_type": "code",
      "source": [
        "covid2020.select(date_format('date', 'MM.D.yyyy').alias(\"DATE\"), date_format('date', 'dd').alias('Day'), date_format('date', 'yyyy').alias('Year')).show()"
      ],
      "metadata": {
        "colab": {
          "base_uri": "https://localhost:8080/"
        },
        "id": "-EHbNXUgVn93",
        "outputId": "2a30a65a-e455-4bb1-a7c9-cf2942aa7050"
      },
      "execution_count": null,
      "outputs": [
        {
          "output_type": "stream",
          "name": "stdout",
          "text": [
            "+----------+---+----+\n",
            "|      DATE|Day|Year|\n",
            "+----------+---+----+\n",
            "|01.21.2020| 21|2020|\n",
            "|01.22.2020| 22|2020|\n",
            "|01.23.2020| 23|2020|\n",
            "|01.24.2020| 24|2020|\n",
            "|01.24.2020| 24|2020|\n",
            "|01.25.2020| 25|2020|\n",
            "|01.25.2020| 25|2020|\n",
            "|01.25.2020| 25|2020|\n",
            "|01.26.2020| 26|2020|\n",
            "|01.26.2020| 26|2020|\n",
            "|01.26.2020| 26|2020|\n",
            "|01.26.2020| 26|2020|\n",
            "|01.26.2020| 26|2020|\n",
            "|01.27.2020| 27|2020|\n",
            "|01.27.2020| 27|2020|\n",
            "|01.27.2020| 27|2020|\n",
            "|01.27.2020| 27|2020|\n",
            "|01.27.2020| 27|2020|\n",
            "|01.28.2020| 28|2020|\n",
            "|01.28.2020| 28|2020|\n",
            "+----------+---+----+\n",
            "only showing top 20 rows\n",
            "\n"
          ]
        }
      ]
    },
    {
      "cell_type": "code",
      "source": [
        "user = [('1', 'Apar'), ('2', 'NCC'), ('3', 'PatelEngineering'), ('4', 'REC')]"
      ],
      "metadata": {
        "id": "p5QIb99fVwpi"
      },
      "execution_count": null,
      "outputs": []
    },
    {
      "cell_type": "code",
      "source": [
        "dummy = spark.createDataFrame(user, \"userid String, Name String\")"
      ],
      "metadata": {
        "id": "1kKraua3W1PP"
      },
      "execution_count": null,
      "outputs": []
    },
    {
      "cell_type": "code",
      "source": [
        "dummy.show()"
      ],
      "metadata": {
        "colab": {
          "base_uri": "https://localhost:8080/"
        },
        "id": "jmN67HUzW8WN",
        "outputId": "358fe1a4-a83b-4f76-fb3a-96c97ff0ec84"
      },
      "execution_count": null,
      "outputs": [
        {
          "output_type": "stream",
          "name": "stdout",
          "text": [
            "+------+----------------+\n",
            "|userid|            Name|\n",
            "+------+----------------+\n",
            "|     1|            Apar|\n",
            "|     2|             NCC|\n",
            "|     3|PatelEngineering|\n",
            "|     4|             REC|\n",
            "+------+----------------+\n",
            "\n"
          ]
        }
      ]
    },
    {
      "cell_type": "code",
      "source": [
        "dummy.columns"
      ],
      "metadata": {
        "colab": {
          "base_uri": "https://localhost:8080/"
        },
        "id": "ZM2dENjCW_Mp",
        "outputId": "d72436c3-52f1-4cc3-96b5-2c0257860a40"
      },
      "execution_count": null,
      "outputs": [
        {
          "output_type": "execute_result",
          "data": {
            "text/plain": [
              "['userid', 'Name']"
            ]
          },
          "metadata": {},
          "execution_count": 21
        }
      ]
    },
    {
      "cell_type": "code",
      "source": [
        "dummy.printSchema()"
      ],
      "metadata": {
        "colab": {
          "base_uri": "https://localhost:8080/"
        },
        "id": "Yz-GnOolXKBb",
        "outputId": "3fd8b285-8767-4b21-f3dd-18ea5e553f81"
      },
      "execution_count": null,
      "outputs": [
        {
          "output_type": "stream",
          "name": "stdout",
          "text": [
            "root\n",
            " |-- userid: string (nullable = true)\n",
            " |-- Name: string (nullable = true)\n",
            "\n"
          ]
        }
      ]
    },
    {
      "cell_type": "code",
      "source": [
        "dummy.dtypes"
      ],
      "metadata": {
        "colab": {
          "base_uri": "https://localhost:8080/"
        },
        "id": "v3PJD68IXLhb",
        "outputId": "5485ef11-ffa0-4f0c-9da4-b08e8d344def"
      },
      "execution_count": null,
      "outputs": [
        {
          "output_type": "execute_result",
          "data": {
            "text/plain": [
              "[('userid', 'string'), ('Name', 'string')]"
            ]
          },
          "metadata": {},
          "execution_count": 23
        }
      ]
    },
    {
      "cell_type": "code",
      "source": [
        "from pyspark.sql.functions import upper, lower, trim, ltrim, rtrim, lpad, rpad, length, substring, split, initcap"
      ],
      "metadata": {
        "id": "Aqd8dIxeXNLL"
      },
      "execution_count": null,
      "outputs": []
    },
    {
      "cell_type": "code",
      "source": [
        "covid2020.show()"
      ],
      "metadata": {
        "colab": {
          "base_uri": "https://localhost:8080/"
        },
        "id": "0fN353NTYPen",
        "outputId": "c326c951-a985-494e-df43-accdf3492f58"
      },
      "execution_count": null,
      "outputs": [
        {
          "output_type": "stream",
          "name": "stdout",
          "text": [
            "+----------+-----------+----------+-----+-----+------+\n",
            "|      date|     county|     state| fips|cases|deaths|\n",
            "+----------+-----------+----------+-----+-----+------+\n",
            "|2020-01-21|  Snohomish|Washington|53061|    1|     0|\n",
            "|2020-01-22|  Snohomish|Washington|53061|    1|     0|\n",
            "|2020-01-23|  Snohomish|Washington|53061|    1|     0|\n",
            "|2020-01-24|       Cook|  Illinois|17031|    1|     0|\n",
            "|2020-01-24|  Snohomish|Washington|53061|    1|     0|\n",
            "|2020-01-25|     Orange|California|06059|    1|     0|\n",
            "|2020-01-25|       Cook|  Illinois|17031|    1|     0|\n",
            "|2020-01-25|  Snohomish|Washington|53061|    1|     0|\n",
            "|2020-01-26|   Maricopa|   Arizona|04013|    1|     0|\n",
            "|2020-01-26|Los Angeles|California|06037|    1|     0|\n",
            "|2020-01-26|     Orange|California|06059|    1|     0|\n",
            "|2020-01-26|       Cook|  Illinois|17031|    1|     0|\n",
            "|2020-01-26|  Snohomish|Washington|53061|    1|     0|\n",
            "|2020-01-27|   Maricopa|   Arizona|04013|    1|     0|\n",
            "|2020-01-27|Los Angeles|California|06037|    1|     0|\n",
            "|2020-01-27|     Orange|California|06059|    1|     0|\n",
            "|2020-01-27|       Cook|  Illinois|17031|    1|     0|\n",
            "|2020-01-27|  Snohomish|Washington|53061|    1|     0|\n",
            "|2020-01-28|   Maricopa|   Arizona|04013|    1|     0|\n",
            "|2020-01-28|Los Angeles|California|06037|    1|     0|\n",
            "+----------+-----------+----------+-----+-----+------+\n",
            "only showing top 20 rows\n",
            "\n"
          ]
        }
      ]
    },
    {
      "cell_type": "code",
      "source": [
        "\n",
        "covid2020.select(lower(col('county')).alias('LOWER'),\n",
        "                 upper(col('county')).alias('UPPER'),\n",
        "                 initcap(col('county')).alias('INIT'),\n",
        "                 length('county').alias('COUNT'),\n",
        "                 lpad('county', 15, ' ').alias('LPADDING'),\n",
        "                 rpad('county', 15, ' ').alias('RPADDING'),\n",
        "                 substring('county', 0, 3).alias(\"SUBSTR\"),\n",
        "                 substring('county', 3, 3).alias(\"SUBSTR2\")).show(truncate=False)"
      ],
      "metadata": {
        "colab": {
          "base_uri": "https://localhost:8080/"
        },
        "id": "awOdycoUYWSz",
        "outputId": "36b635b2-1de1-44e4-a881-9c1c863b357b"
      },
      "execution_count": null,
      "outputs": [
        {
          "output_type": "stream",
          "name": "stdout",
          "text": [
            "+-----------+-----------+-----------+-----+---------------+---------------+------+-------+\n",
            "|LOWER      |UPPER      |INIT       |COUNT|LPADDING       |RPADDING       |SUBSTR|SUBSTR2|\n",
            "+-----------+-----------+-----------+-----+---------------+---------------+------+-------+\n",
            "|snohomish  |SNOHOMISH  |Snohomish  |9    |      Snohomish|Snohomish      |Sno   |oho    |\n",
            "|snohomish  |SNOHOMISH  |Snohomish  |9    |      Snohomish|Snohomish      |Sno   |oho    |\n",
            "|snohomish  |SNOHOMISH  |Snohomish  |9    |      Snohomish|Snohomish      |Sno   |oho    |\n",
            "|cook       |COOK       |Cook       |4    |           Cook|Cook           |Coo   |ok     |\n",
            "|snohomish  |SNOHOMISH  |Snohomish  |9    |      Snohomish|Snohomish      |Sno   |oho    |\n",
            "|orange     |ORANGE     |Orange     |6    |         Orange|Orange         |Ora   |ang    |\n",
            "|cook       |COOK       |Cook       |4    |           Cook|Cook           |Coo   |ok     |\n",
            "|snohomish  |SNOHOMISH  |Snohomish  |9    |      Snohomish|Snohomish      |Sno   |oho    |\n",
            "|maricopa   |MARICOPA   |Maricopa   |8    |       Maricopa|Maricopa       |Mar   |ric    |\n",
            "|los angeles|LOS ANGELES|Los Angeles|11   |    Los Angeles|Los Angeles    |Los   |s A    |\n",
            "|orange     |ORANGE     |Orange     |6    |         Orange|Orange         |Ora   |ang    |\n",
            "|cook       |COOK       |Cook       |4    |           Cook|Cook           |Coo   |ok     |\n",
            "|snohomish  |SNOHOMISH  |Snohomish  |9    |      Snohomish|Snohomish      |Sno   |oho    |\n",
            "|maricopa   |MARICOPA   |Maricopa   |8    |       Maricopa|Maricopa       |Mar   |ric    |\n",
            "|los angeles|LOS ANGELES|Los Angeles|11   |    Los Angeles|Los Angeles    |Los   |s A    |\n",
            "|orange     |ORANGE     |Orange     |6    |         Orange|Orange         |Ora   |ang    |\n",
            "|cook       |COOK       |Cook       |4    |           Cook|Cook           |Coo   |ok     |\n",
            "|snohomish  |SNOHOMISH  |Snohomish  |9    |      Snohomish|Snohomish      |Sno   |oho    |\n",
            "|maricopa   |MARICOPA   |Maricopa   |8    |       Maricopa|Maricopa       |Mar   |ric    |\n",
            "|los angeles|LOS ANGELES|Los Angeles|11   |    Los Angeles|Los Angeles    |Los   |s A    |\n",
            "+-----------+-----------+-----------+-----+---------------+---------------+------+-------+\n",
            "only showing top 20 rows\n",
            "\n"
          ]
        }
      ]
    },
    {
      "cell_type": "code",
      "source": [
        "from pyspark.sql.functions import lit, col, split"
      ],
      "metadata": {
        "id": "as-lIqvZYciR"
      },
      "execution_count": null,
      "outputs": []
    },
    {
      "cell_type": "code",
      "source": [
        "covid2020 \\\n",
        "       .withColumn(\"Year\", split('date', '-')[0]) \\\n",
        "       .show()\n"
      ],
      "metadata": {
        "colab": {
          "base_uri": "https://localhost:8080/"
        },
        "id": "U-onRIkNcbGt",
        "outputId": "bd3a48af-5ee8-44c7-c55b-61e5495a2c45"
      },
      "execution_count": null,
      "outputs": [
        {
          "output_type": "stream",
          "name": "stdout",
          "text": [
            "+----------+-----------+----------+-----+-----+------+----+\n",
            "|      date|     county|     state| fips|cases|deaths|Year|\n",
            "+----------+-----------+----------+-----+-----+------+----+\n",
            "|2020-01-21|  Snohomish|Washington|53061|    1|     0|2020|\n",
            "|2020-01-22|  Snohomish|Washington|53061|    1|     0|2020|\n",
            "|2020-01-23|  Snohomish|Washington|53061|    1|     0|2020|\n",
            "|2020-01-24|       Cook|  Illinois|17031|    1|     0|2020|\n",
            "|2020-01-24|  Snohomish|Washington|53061|    1|     0|2020|\n",
            "|2020-01-25|     Orange|California|06059|    1|     0|2020|\n",
            "|2020-01-25|       Cook|  Illinois|17031|    1|     0|2020|\n",
            "|2020-01-25|  Snohomish|Washington|53061|    1|     0|2020|\n",
            "|2020-01-26|   Maricopa|   Arizona|04013|    1|     0|2020|\n",
            "|2020-01-26|Los Angeles|California|06037|    1|     0|2020|\n",
            "|2020-01-26|     Orange|California|06059|    1|     0|2020|\n",
            "|2020-01-26|       Cook|  Illinois|17031|    1|     0|2020|\n",
            "|2020-01-26|  Snohomish|Washington|53061|    1|     0|2020|\n",
            "|2020-01-27|   Maricopa|   Arizona|04013|    1|     0|2020|\n",
            "|2020-01-27|Los Angeles|California|06037|    1|     0|2020|\n",
            "|2020-01-27|     Orange|California|06059|    1|     0|2020|\n",
            "|2020-01-27|       Cook|  Illinois|17031|    1|     0|2020|\n",
            "|2020-01-27|  Snohomish|Washington|53061|    1|     0|2020|\n",
            "|2020-01-28|   Maricopa|   Arizona|04013|    1|     0|2020|\n",
            "|2020-01-28|Los Angeles|California|06037|    1|     0|2020|\n",
            "+----------+-----------+----------+-----+-----+------+----+\n",
            "only showing top 20 rows\n",
            "\n"
          ]
        }
      ]
    },
    {
      "cell_type": "code",
      "source": [],
      "metadata": {
        "id": "t6qb8Qgh1WFk"
      },
      "execution_count": null,
      "outputs": []
    }
  ]
}